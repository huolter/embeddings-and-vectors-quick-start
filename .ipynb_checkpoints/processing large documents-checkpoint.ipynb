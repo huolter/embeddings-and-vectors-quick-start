{
 "cells": [
  {
   "cell_type": "code",
   "execution_count": 6,
   "id": "22e2f0ba",
   "metadata": {},
   "outputs": [
    {
     "name": "stdout",
     "output_type": "stream",
     "text": [
      "﻿MY LIFE\n",
      "\n",
      "by Richard Wagner\n",
      "\n",
      "\n",
      "\n",
      "PART I\n",
      "1813-1842\n",
      "\n",
      "\n",
      "I was born at Leipzig on the 22nd of May 1813, in a room on the second\n",
      "floor of the ‘Red and White Lion,’ and two days later was baptized at\n",
      "St. Thomas’s Church, and christened Wilhelm Richard.\n",
      "\n",
      "My father, Friedrich Wagner, was at the time of my birt\n"
     ]
    }
   ],
   "source": [
    "# let's work with the amazing \"my life\" from r wagner. Here we have a nice txt version of volume 1\n",
    "\n",
    "# Open the file in read mode\n",
    "with open('my_life_wagner.txt', 'r', encoding=\"utf-8\") as file:\n",
    "    # Read the contents of the file into a variable\n",
    "    full_txt = file.read()\n",
    "\n",
    "print (full_txt[:300])"
   ]
  },
  {
   "cell_type": "code",
   "execution_count": 7,
   "id": "9c7c688c",
   "metadata": {},
   "outputs": [
    {
     "data": {
      "text/plain": [
       "1249453"
      ]
     },
     "execution_count": 7,
     "metadata": {},
     "output_type": "execute_result"
    }
   ],
   "source": [
    "len (full_txt)"
   ]
  },
  {
   "cell_type": "markdown",
   "id": "6a70ecd0",
   "metadata": {},
   "source": [
    "divide the input text into chunks and then embed each chunk individually. Then, we can either use the chunk embeddings separately, or combine them in some way, such as averaging (weighted by the size of each chunk)"
   ]
  },
  {
   "cell_type": "code",
   "execution_count": 20,
   "id": "e552abb6",
   "metadata": {},
   "outputs": [
    {
     "data": {
      "text/plain": [
       "286941"
      ]
     },
     "execution_count": 20,
     "metadata": {},
     "output_type": "execute_result"
    }
   ],
   "source": [
    "import tiktoken\n",
    "\n",
    "'''The text-embedding-ada-002 model has a context length of 8191 tokens \n",
    "with the cl100k_base encoding, and we can see that going over that limit causes an error.'''\n",
    "\n",
    "EMBEDDING_CTX_LENGTH = 8191\n",
    "EMBEDDING_ENCODING = 'cl100k_base'\n",
    "\n",
    "encoding = tiktoken.get_encoding(EMBEDDING_ENCODING)\n",
    "len(encoding.encode(full_txt))"
   ]
  },
  {
   "cell_type": "markdown",
   "id": "c778f77f",
   "metadata": {},
   "source": [
    "we need now to make sure our chuncks have less than 8191 tokens\n",
    "in this case we have a narrative text, let's see if we can group by paragraphs and see what happens"
   ]
  },
  {
   "cell_type": "code",
   "execution_count": 21,
   "id": "a183674f",
   "metadata": {},
   "outputs": [
    {
     "data": {
      "text/plain": [
       "['\\ufeffMY LIFE',\n",
       " 'by Richard Wagner',\n",
       " '',\n",
       " 'PART I\\n1813-1842',\n",
       " '\\nI was born at Leipzig on the 22nd of May 1813, in a room on the second\\nfloor of the ‘Red and White Lion,’ and two days later was baptized at\\nSt. Thomas’s Church, and christened Wilhelm Richard.',\n",
       " 'My father, Friedrich Wagner, was at the time of my birth a clerk in the\\npolice service at Leipzig, and hoped to get the post of Chief Constable\\nin that town, but he died in the October of that same year. His death\\nwas partly due to the great exertions imposed upon him by the stress of\\npolice work during the war troubles and the battle of Leipzig, and\\npartly to the fact that he fell a victim to the nervous fever which was\\nraging at that time. As regards his father’s position in life, I learnt\\nlater that he had held a small civil appointment as toll collector at\\nthe Ranstädt Gate, but had distinguished himself from those in the same\\nstation by giving his two sons a superior education, my father,\\nFriedrich, studying law, and the younger son, Adolph, theology.',\n",
       " 'My uncle subsequently exercised no small influence on my development;\\nwe shall meet him again at a critical turning-point in the story of my\\nyouth.',\n",
       " 'My father, whom I had lost so early, was, as I discovered afterwards, a\\ngreat lover of poetry and literature in general, and possessed in\\nparticular an almost passionate affection for the drama, which was at\\nthat time much in vogue among the educated classes. My mother told me,\\namong other things, that he took her to Lauchstadt for the first\\nperformance of the _Braut von Messina_, and that on the promenade he\\npointed out Schiller and Goethe to her, and reproved her warmly for\\nnever having heard of these great men. He is said to have been not\\naltogether free from a gallant interest in actresses. My mother used to\\ncomplain jokingly that she often had to keep lunch waiting for him\\nwhile he was paying court to a certain famous actress of the day.[1]\\nWhen she scolded him, he vowed that he had been delayed by papers that\\nhad to be attended to, and as a proof of his assertion pointed to his\\nfingers, which were supposed to be stained with ink, but on closer\\ninspection were found to be quite clean. His great fondness for the\\ntheatre was further shown by his choice of the actor, Ludwig Geyer, as\\none of his intimate friends. Although his choice of this friend was no\\ndoubt mainly due to his love for the theatre, he at the same time\\nintroduced into his family the noblest of benefactors; for this modest\\nartist, prompted by a warm interest in the lot of his friend’s large\\nfamily, so unexpectedly left destitute, devoted the remainder of his\\nlife to making strenuous efforts to maintain and educate the orphans.\\nEven when the police official was spending his evenings at the theatre,\\nthe worthy actor generally filled his place in the family circle, and\\nit seems had frequently to appease my mother, who, rightly or wrongly,\\ncomplained of the frivolity of her husband.',\n",
       " ' [1] Madame Hartwig.',\n",
       " '\\nHow deeply the homeless artist, hard pressed by life and tossed to and\\nfro, longed to feel himself at home in a sympathetic family circle, was\\nproved by the fact that a year after his friend’s death he married his\\nwidow, and from that time forward became a most loving father to the\\nseven children that had been left behind.']"
      ]
     },
     "execution_count": 21,
     "metadata": {},
     "output_type": "execute_result"
    }
   ],
   "source": [
    "paragraphs = full_txt.split('\\n\\n')\n",
    "paragraphs[:10]"
   ]
  },
  {
   "cell_type": "code",
   "execution_count": 22,
   "id": "f0b52450",
   "metadata": {},
   "outputs": [
    {
     "data": {
      "text/plain": [
       "['\\nI was born at Leipzig on the 22nd of May 1813, in a room on the second\\nfloor of the ‘Red and White Lion,’ and two days later was baptized at\\nSt. Thomas’s Church, and christened Wilhelm Richard.',\n",
       " 'My father, Friedrich Wagner, was at the time of my birth a clerk in the\\npolice service at Leipzig, and hoped to get the post of Chief Constable\\nin that town, but he died in the October of that same year. His death\\nwas partly due to the great exertions imposed upon him by the stress of\\npolice work during the war troubles and the battle of Leipzig, and\\npartly to the fact that he fell a victim to the nervous fever which was\\nraging at that time. As regards his father’s position in life, I learnt\\nlater that he had held a small civil appointment as toll collector at\\nthe Ranstädt Gate, but had distinguished himself from those in the same\\nstation by giving his two sons a superior education, my father,\\nFriedrich, studying law, and the younger son, Adolph, theology.',\n",
       " 'My uncle subsequently exercised no small influence on my development;\\nwe shall meet him again at a critical turning-point in the story of my\\nyouth.',\n",
       " 'My father, whom I had lost so early, was, as I discovered afterwards, a\\ngreat lover of poetry and literature in general, and possessed in\\nparticular an almost passionate affection for the drama, which was at\\nthat time much in vogue among the educated classes. My mother told me,\\namong other things, that he took her to Lauchstadt for the first\\nperformance of the _Braut von Messina_, and that on the promenade he\\npointed out Schiller and Goethe to her, and reproved her warmly for\\nnever having heard of these great men. He is said to have been not\\naltogether free from a gallant interest in actresses. My mother used to\\ncomplain jokingly that she often had to keep lunch waiting for him\\nwhile he was paying court to a certain famous actress of the day.[1]\\nWhen she scolded him, he vowed that he had been delayed by papers that\\nhad to be attended to, and as a proof of his assertion pointed to his\\nfingers, which were supposed to be stained with ink, but on closer\\ninspection were found to be quite clean. His great fondness for the\\ntheatre was further shown by his choice of the actor, Ludwig Geyer, as\\none of his intimate friends. Although his choice of this friend was no\\ndoubt mainly due to his love for the theatre, he at the same time\\nintroduced into his family the noblest of benefactors; for this modest\\nartist, prompted by a warm interest in the lot of his friend’s large\\nfamily, so unexpectedly left destitute, devoted the remainder of his\\nlife to making strenuous efforts to maintain and educate the orphans.\\nEven when the police official was spending his evenings at the theatre,\\nthe worthy actor generally filled his place in the family circle, and\\nit seems had frequently to appease my mother, who, rightly or wrongly,\\ncomplained of the frivolity of her husband.',\n",
       " '\\nHow deeply the homeless artist, hard pressed by life and tossed to and\\nfro, longed to feel himself at home in a sympathetic family circle, was\\nproved by the fact that a year after his friend’s death he married his\\nwidow, and from that time forward became a most loving father to the\\nseven children that had been left behind.',\n",
       " 'In this onerous undertaking he was favoured by an unexpected\\nimprovement in his position, for he obtained a remunerative,\\nrespectable, and permanent engagement, as a character actor, at the\\nnewly established Court Theatre in Dresden. His talent for painting,\\nwhich had already helped him to earn a livelihood when forced by\\nextreme poverty to break off his university studies, again stood him in\\ngood stead in his position at Dresden. True, he complained even more\\nthan his critics that he had been kept from a regular and systematic\\nstudy of this art, yet his extraordinary aptitude, for portrait\\npainting in particular, secured him such important commissions that he\\nunfortunately exhausted his strength prematurely by his twofold\\nexertions as painter and actor. Once, when he was invited to Munich to\\nfulfil a temporary engagement at the Court Theatre, he received,\\nthrough the distinguished recommendation of the Saxon Court, such\\npressing commissions from the Bavarian Court for portraits of the royal\\nfamily that he thought it wise to cancel his contract altogether. He\\nalso had a turn for poetry. Besides fragments—often in very dainty\\nverse—he wrote several comedies, one of which, _Der Bethlehemitische\\nKindermord_, in rhymed Alexandrines, was often performed; it was\\npublished and received the warmest praise from Goethe.',\n",
       " 'This excellent man, under whose care our family moved to Dresden when I\\nwas two years old, and by whom my mother had another daughter, Cecilia,\\nnow also took my education in hand with the greatest care and\\naffection. He wished to adopt me altogether, and accordingly, when I\\nwas sent to my first school, he gave me his own name, so that till the\\nage of fourteen I was known to my Dresden schoolfellows as Richard\\nGeyer; and it was not until some years after my stepfather’s death, and\\non my family’s return to Leipzig, the home of my own kith and kin, that\\nI resumed the name of Wagner.',\n",
       " 'The earliest recollections of my childhood are associated with my\\nstepfather, and passed from him to the theatre. I well remember that he\\nwould have liked to see me develop a talent for painting; and his\\nstudio, with the easel and the pictures upon it, did not fail to\\nimpress me. I remember in particular that I tried, with a childish love\\nof imitation, to copy a portrait of King Frederick Augustus of Saxony;\\nbut when this simple daubing had to give place to a serious study of\\ndrawing, I could not stand it, possibly because I was discouraged by\\nthe pedantic technique of my teacher, a cousin of mine, who was rather\\na bore. At one time during my early boyhood I became so weak after some\\nchildish ailment that my mother told me later she used almost to wish\\nme dead, for it seemed as though I should never get well. However, my\\nsubsequent good health apparently astonished my parents. I afterwards\\nlearnt the noble part played by my excellent stepfather on this\\noccasion also; he never gave way to despair, in spite of the cares and\\ntroubles of so large a family, but remained patient throughout, and\\nnever lost the hope of pulling me through safely.',\n",
       " 'My imagination at this time was deeply impressed by my acquaintance\\nwith the theatre, with which I was brought into contact, not only as a\\nchildish spectator from the mysterious stagebox, with its access to the\\nstage, and by visits to the wardrobe with its fantastic costumes, wigs\\nand other disguises, but also by taking a part in the performances\\nmyself. After I had been filled with fear by seeing my father play the\\nvillain’s part in such tragedies as _Die Waise und der Mörder, Die\\nbeiden Galeerensklaven_, I occasionally took part in comedy. I remember\\nthat I appeared in _Der Weinberg an der Elbe_, a piece specially\\nwritten to welcome the King of Saxony on his return from captivity,\\nwith music by the conductor, C. M. von Weber. In this I figured in a\\n_tableau vivant_ as an angel, sewn up in tights with wings on my back,\\nin a graceful pose which I had laboriously practised. I also remember\\non this occasion being given a big iced cake, which I was assured the\\nKing had intended for me personally. Lastly, I can recall taking a\\nchild’s part in which I had a few words to speak in Kotzebue’s\\n_Menschenhass und Reue_[2], which furnished me with an excuse at school\\nfor not having learnt my lessons. I said I had too much to do, as I had\\nto learn by heart an important part in _Den Menschen ausser der\\nReihe_.[3]',\n",
       " '\\n [3] ‘The Man out of the Rank or Row.’ In the German this is a simple\\n phonetic corruption of Kotzebue’s title, which might easily occur to a\\n child who had only heard, and not read, that title.—EDITOR.']"
      ]
     },
     "execution_count": 22,
     "metadata": {},
     "output_type": "execute_result"
    }
   ],
   "source": [
    "# let's keep only the paragraphs that are longer than x\n",
    "\n",
    "min_paragraph_chars = 100\n",
    "filtered_paragraphs = [paragraph for paragraph in paragraphs if len(paragraph) >= min_paragraph_chars]\n",
    "\n",
    "filtered_paragraphs[:10]\n"
   ]
  },
  {
   "cell_type": "code",
   "execution_count": 24,
   "id": "d19e7014",
   "metadata": {},
   "outputs": [
    {
     "data": {
      "text/plain": [
       "['\\nI was born at Leipzig on the 22nd of May 1813, in a room on the second\\nfloor of the ‘Red and White Lion,’ and two days later was baptized at\\nSt. Thomas’s Church, and christened Wilhelm Richard.',\n",
       " 'My father, Friedrich Wagner, was at the time of my birth a clerk in the\\npolice service at Leipzig, and hoped to get the post of Chief Constable\\nin that town, but he died in the October of that same year. His death\\nwas partly due to the great exertions imposed upon him by the stress of\\npolice work during the war troubles and the battle of Leipzig, and\\npartly to the fact that he fell a victim to the nervous fever which was\\nraging at that time. As regards his father’s position in life, I learnt\\nlater that he had held a small civil appointment as toll collector at\\nthe Ranstädt Gate, but had distinguished himself from those in the same\\nstation by giving his two sons a superior education, my father,\\nFriedrich, studying law, and the younger son, Adolph, theology.',\n",
       " 'My uncle subsequently exercised no small influence on my development;\\nwe shall meet him again at a critical turning-point in the story of my\\nyouth.',\n",
       " '\\nHow deeply the homeless artist, hard pressed by life and tossed to and\\nfro, longed to feel himself at home in a sympathetic family circle, was\\nproved by the fact that a year after his friend’s death he married his\\nwidow, and from that time forward became a most loving father to the\\nseven children that had been left behind.',\n",
       " 'In this onerous undertaking he was favoured by an unexpected\\nimprovement in his position, for he obtained a remunerative,\\nrespectable, and permanent engagement, as a character actor, at the\\nnewly established Court Theatre in Dresden. His talent for painting,\\nwhich had already helped him to earn a livelihood when forced by\\nextreme poverty to break off his university studies, again stood him in\\ngood stead in his position at Dresden. True, he complained even more\\nthan his critics that he had been kept from a regular and systematic\\nstudy of this art, yet his extraordinary aptitude, for portrait\\npainting in particular, secured him such important commissions that he\\nunfortunately exhausted his strength prematurely by his twofold\\nexertions as painter and actor. Once, when he was invited to Munich to\\nfulfil a temporary engagement at the Court Theatre, he received,\\nthrough the distinguished recommendation of the Saxon Court, such\\npressing commissions from the Bavarian Court for portraits of the royal\\nfamily that he thought it wise to cancel his contract altogether. He\\nalso had a turn for poetry. Besides fragments—often in very dainty\\nverse—he wrote several comedies, one of which, _Der Bethlehemitische\\nKindermord_, in rhymed Alexandrines, was often performed; it was\\npublished and received the warmest praise from Goethe.',\n",
       " 'This excellent man, under whose care our family moved to Dresden when I\\nwas two years old, and by whom my mother had another daughter, Cecilia,\\nnow also took my education in hand with the greatest care and\\naffection. He wished to adopt me altogether, and accordingly, when I\\nwas sent to my first school, he gave me his own name, so that till the\\nage of fourteen I was known to my Dresden schoolfellows as Richard\\nGeyer; and it was not until some years after my stepfather’s death, and\\non my family’s return to Leipzig, the home of my own kith and kin, that\\nI resumed the name of Wagner.',\n",
       " 'The earliest recollections of my childhood are associated with my\\nstepfather, and passed from him to the theatre. I well remember that he\\nwould have liked to see me develop a talent for painting; and his\\nstudio, with the easel and the pictures upon it, did not fail to\\nimpress me. I remember in particular that I tried, with a childish love\\nof imitation, to copy a portrait of King Frederick Augustus of Saxony;\\nbut when this simple daubing had to give place to a serious study of\\ndrawing, I could not stand it, possibly because I was discouraged by\\nthe pedantic technique of my teacher, a cousin of mine, who was rather\\na bore. At one time during my early boyhood I became so weak after some\\nchildish ailment that my mother told me later she used almost to wish\\nme dead, for it seemed as though I should never get well. However, my\\nsubsequent good health apparently astonished my parents. I afterwards\\nlearnt the noble part played by my excellent stepfather on this\\noccasion also; he never gave way to despair, in spite of the cares and\\ntroubles of so large a family, but remained patient throughout, and\\nnever lost the hope of pulling me through safely.',\n",
       " '\\nOn the other hand, to show how seriously my father regarded my\\neducation, when I was six years old he took me to a clergyman in the\\ncountry at Possendorf, near Dresden, where I was to be given a sound\\nand healthy training with other boys of my own class. In the evening,\\nthe vicar, whose name was Wetzel, used to tell us the story of Robinson\\nCrusoe, and discuss it with us in a highly instructive manner. I was,\\nmoreover, much impressed by a biography of Mozart which was read aloud;\\nand the newspaper accounts and monthly reports of the events of the\\nGreek War of Independence stirred my imagination deeply. My love for\\nGreece, which afterwards made me turn with enthusiasm to the mythology\\nand history of ancient Hellas, was thus the natural outcome of the\\nintense and painful interest I took in the events of this period. In\\nafter years the story of the struggle of the Greeks against the\\nPersians always revived my impressions of this modern revolt of Greece\\nagainst the Turks.',\n",
       " 'One day, when I had been in this country home scarcely a year, a\\nmessenger came from town to ask the vicar to take me to my parents’\\nhouse in Dresden, as my father was dying.',\n",
       " 'We did the three hours’ journey on foot; and as I was very exhausted\\nwhen I arrived, I scarcely understood why my mother was crying. The\\nnext day I was taken to my father’s bedside; the extreme weakness with\\nwhich he spoke to me, combined with all the precautions taken in the\\nlast desperate treatment of his complaint—acute hydrothorax—made the\\nwhole scene appear like a dream to me, and I think I was too frightened\\nand surprised to cry.']"
      ]
     },
     "execution_count": 24,
     "metadata": {},
     "output_type": "execute_result"
    }
   ],
   "source": [
    "# let's remove the notes, identified by [x]\n",
    "\n",
    "# Filter paragraphs with x characters or more and no [ and ] characters\n",
    "\n",
    "min_paragraph_chars = 100\n",
    "\n",
    "filtered_paragraphs = []\n",
    "for paragraph in paragraphs:\n",
    "    # Check if the paragraph contains [ and ] characters\n",
    "    if '[' not in paragraph and ']' not in paragraph:\n",
    "        if len(paragraph) >= min_paragraph_chars:\n",
    "            filtered_paragraphs.append(paragraph)\n",
    "\n",
    "filtered_paragraphs[:10]"
   ]
  },
  {
   "cell_type": "code",
   "execution_count": 32,
   "id": "31895597",
   "metadata": {},
   "outputs": [
    {
     "data": {
      "text/plain": [
       "['\\nI was born at Leipzig on the 22nd of May 1813, in a room on the second\\nfloor of the ‘Red and White Lion,’ and two days later was baptized at\\nSt. Thomas’s Church, and christened Wilhelm Richard.',\n",
       " 'My father, Friedrich Wagner, was at the time of my birth a clerk in the\\npolice service at Leipzig, and hoped to get the post of Chief Constable\\nin that town, but he died in the October of that same year. His death\\nwas partly due to the great exertions imposed upon him by the stress of\\npolice work during the war troubles and the battle of Leipzig, and\\npartly to the fact that he fell a victim to the nervous fever which was\\nraging at that time. As regards his father’s position in life, I learnt\\nlater that he had held a small civil appointment as toll collector at\\nthe Ranstädt Gate, but had distinguished himself from those in the same\\nstation by giving his two sons a superior education, my father,\\nFriedrich, studying law, and the younger son, Adolph, theology.',\n",
       " 'My uncle subsequently exercised no small influence on my development;\\nwe shall meet him again at a critical turning-point in the story of my\\nyouth.',\n",
       " '\\nHow deeply the homeless artist, hard pressed by life and tossed to and\\nfro, longed to feel himself at home in a sympathetic family circle, was\\nproved by the fact that a year after his friend’s death he married his\\nwidow, and from that time forward became a most loving father to the\\nseven children that had been left behind.',\n",
       " 'In this onerous undertaking he was favoured by an unexpected\\nimprovement in his position, for he obtained a remunerative,\\nrespectable, and permanent engagement, as a character actor, at the\\nnewly established Court Theatre in Dresden. His talent for painting,\\nwhich had already helped him to earn a livelihood when forced by\\nextreme poverty to break off his university studies, again stood him in\\ngood stead in his position at Dresden. True, he complained even more\\nthan his critics that he had been kept from a regular and systematic\\nstudy of this art, yet his extraordinary aptitude, for portrait\\npainting in particular, secured him such important commissions that he\\nunfortunately exhausted his strength prematurely by his twofold\\nexertions as painter and actor. Once, when he was invited to Munich to\\nfulfil a temporary engagement at the Court Theatre, he received,\\nthrough the distinguished recommendation of the Saxon Court, such\\npressing commissions from the Bavarian Court for portraits of the royal\\nfamily that he thought it wise to cancel his contract altogether. He\\nalso had a turn for poetry. Besides fragments—often in very dainty\\nverse—he wrote several comedies, one of which, _Der Bethlehemitische\\nKindermord_, in rhymed Alexandrines, was often performed; it was\\npublished and received the warmest praise from Goethe.',\n",
       " 'This excellent man, under whose care our family moved to Dresden when I\\nwas two years old, and by whom my mother had another daughter, Cecilia,\\nnow also took my education in hand with the greatest care and\\naffection. He wished to adopt me altogether, and accordingly, when I\\nwas sent to my first school, he gave me his own name, so that till the\\nage of fourteen I was known to my Dresden schoolfellows as Richard\\nGeyer; and it was not until some years after my stepfather’s death, and\\non my family’s return to Leipzig, the home of my own kith and kin, that\\nI resumed the name of Wagner.',\n",
       " 'The earliest recollections of my childhood are associated with my\\nstepfather, and passed from him to the theatre. I well remember that he\\nwould have liked to see me develop a talent for painting; and his\\nstudio, with the easel and the pictures upon it, did not fail to\\nimpress me. I remember in particular that I tried, with a childish love\\nof imitation, to copy a portrait of King Frederick Augustus of Saxony;\\nbut when this simple daubing had to give place to a serious study of\\ndrawing, I could not stand it, possibly because I was discouraged by\\nthe pedantic technique of my teacher, a cousin of mine, who was rather\\na bore. At one time during my early boyhood I became so weak after some\\nchildish ailment that my mother told me later she used almost to wish\\nme dead, for it seemed as though I should never get well. However, my\\nsubsequent good health apparently astonished my parents. I afterwards\\nlearnt the noble part played by my excellent stepfather on this\\noccasion also; he never gave way to despair, in spite of the cares and\\ntroubles of so large a family, but remained patient throughout, and\\nnever lost the hope of pulling me through safely.',\n",
       " '\\nOn the other hand, to show how seriously my father regarded my\\neducation, when I was six years old he took me to a clergyman in the\\ncountry at Possendorf, near Dresden, where I was to be given a sound\\nand healthy training with other boys of my own class. In the evening,\\nthe vicar, whose name was Wetzel, used to tell us the story of Robinson\\nCrusoe, and discuss it with us in a highly instructive manner. I was,\\nmoreover, much impressed by a biography of Mozart which was read aloud;\\nand the newspaper accounts and monthly reports of the events of the\\nGreek War of Independence stirred my imagination deeply. My love for\\nGreece, which afterwards made me turn with enthusiasm to the mythology\\nand history of ancient Hellas, was thus the natural outcome of the\\nintense and painful interest I took in the events of this period. In\\nafter years the story of the struggle of the Greeks against the\\nPersians always revived my impressions of this modern revolt of Greece\\nagainst the Turks.',\n",
       " 'One day, when I had been in this country home scarcely a year, a\\nmessenger came from town to ask the vicar to take me to my parents’\\nhouse in Dresden, as my father was dying.',\n",
       " 'We did the three hours’ journey on foot; and as I was very exhausted\\nwhen I arrived, I scarcely understood why my mother was crying. The\\nnext day I was taken to my father’s bedside; the extreme weakness with\\nwhich he spoke to me, combined with all the precautions taken in the\\nlast desperate treatment of his complaint—acute hydrothorax—made the\\nwhole scene appear like a dream to me, and I think I was too frightened\\nand surprised to cry.']"
      ]
     },
     "execution_count": 32,
     "metadata": {},
     "output_type": "execute_result"
    }
   ],
   "source": [
    "# lets write a function that will check if the chuncks have the right token lenght\n",
    "# if so, keep it as it is\n",
    "# if not, split it in N pieces but always keeping sentences\n",
    "\n",
    "import tiktoken\n",
    "\n",
    "EMBEDDING_CTX_LENGTH = 8191\n",
    "EMBEDDING_ENCODING = 'cl100k_base'\n",
    "\n",
    "def split_paragraphs(paragraphs):\n",
    "    encoding = tiktoken.get_encoding(EMBEDDING_ENCODING)\n",
    "    max_token_length = EMBEDDING_CTX_LENGTH\n",
    "\n",
    "    split_paragraphs_list = []\n",
    "\n",
    "    for paragraph in paragraphs:\n",
    "        paragraph_tokens = encoding.encode(paragraph)\n",
    "        \n",
    "        if len(paragraph_tokens) <= max_token_length:\n",
    "            split_paragraphs_list.append(paragraph)\n",
    "        else:\n",
    "            sentences = paragraph.split('.')\n",
    "            current_chunk = \"\"\n",
    "            current_chunk_tokens = []\n",
    "            \n",
    "            for sentence in sentences:\n",
    "                sentence_tokens = encoding.encode(sentence)\n",
    "                \n",
    "                if len(current_chunk_tokens) + len(sentence_tokens) <= max_token_length:\n",
    "                    if current_chunk:\n",
    "                        current_chunk += '.'\n",
    "                        current_chunk_tokens.append(encoding.encode('.'))\n",
    "                    current_chunk += sentence\n",
    "                    current_chunk_tokens.extend(sentence_tokens)\n",
    "                else:\n",
    "                    split_paragraphs_list.append(current_chunk)\n",
    "                    current_chunk = sentence\n",
    "                    current_chunk_tokens = sentence_tokens\n",
    "            \n",
    "            if current_chunk:\n",
    "                split_paragraphs_list.append(current_chunk)\n",
    "    \n",
    "    return split_paragraphs_list\n",
    "\n",
    "# Example narrative text\n",
    "narrative_text = full_txt\n",
    "\n",
    "# Split the text into paragraphs using empty lines as separators\n",
    "paragraphs = narrative_text.split('\\n\\n')\n",
    "\n",
    "# Filter paragraphs with 100 characters or more and no [ and ] characters\n",
    "filtered_paragraphs = []\n",
    "for paragraph in paragraphs:\n",
    "    if '[' not in paragraph and ']' not in paragraph:\n",
    "        if len(paragraph) >= 100:\n",
    "            filtered_paragraphs.append(paragraph)\n",
    "\n",
    "# Split paragraphs based on token length\n",
    "split_paragraphs_list = split_paragraphs(filtered_paragraphs)\n",
    "\n",
    "split_paragraphs_list[:10]\n",
    "\n",
    "# now this is perfectly embeddable XD"
   ]
  },
  {
   "cell_type": "code",
   "execution_count": null,
   "id": "cdf51282",
   "metadata": {},
   "outputs": [],
   "source": []
  },
  {
   "cell_type": "code",
   "execution_count": null,
   "id": "11ae2bd5",
   "metadata": {},
   "outputs": [],
   "source": []
  }
 ],
 "metadata": {
  "kernelspec": {
   "display_name": "Python 3 (ipykernel)",
   "language": "python",
   "name": "python3"
  },
  "language_info": {
   "codemirror_mode": {
    "name": "ipython",
    "version": 3
   },
   "file_extension": ".py",
   "mimetype": "text/x-python",
   "name": "python",
   "nbconvert_exporter": "python",
   "pygments_lexer": "ipython3",
   "version": "3.9.17"
  }
 },
 "nbformat": 4,
 "nbformat_minor": 5
}
